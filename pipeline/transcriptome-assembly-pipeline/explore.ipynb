{
 "cells": [
  {
   "cell_type": "code",
   "execution_count": null,
   "metadata": {},
   "outputs": [],
   "source": [
    "# read the blastn outfmt 6 file\n",
    "blastn_file = '/data5/xzg_data/arabidopsis_single_cell_atalas/rna-seq/post-process/blastn_out.txt'\n",
    "\n",
    "result_dict = {}\n",
    "\n",
    "with open(blastn_file, 'r') as f:\n",
    "    for line in f:\n",
    "        line = line.strip()\n",
    "        if line.startswith('#'):\n",
    "            continue\n",
    "        line_list = line.split('\\t')\n",
    "        query_id = line_list[0]\n",
    "        subject_id = line_list[1]\n",
    "        percent_identity = float(line_list[2])\n",
    "        alignment_length = int(line_list[3])\n",
    "        mismatch = int(line_list[4])\n",
    "        gap_open = int(line_list[5])\n",
    "        q_start = int(line_list[6])\n",
    "        q_end = int(line_list[7])\n",
    "        s_start = int(line_list[8])\n",
    "        s_end = int(line_list[9])\n",
    "        evalue = float(line_list[10])\n",
    "        bit_score = float(line_list[11])\n",
    "\n",
    "        if query_id == subject_id:\n",
    "            continue\n",
    "        if query_id not in result_dict:\n",
    "            result_dict[query_id] = []\n",
    "        result_dict[query_id].append([subject_id, percent_identity, alignment_length, mismatch, gap_open, q_start, q_end, s_start, s_end, evalue, bit_score])"
   ]
  },
  {
   "cell_type": "code",
   "execution_count": 27,
   "metadata": {},
   "outputs": [],
   "source": [
    "from trinity_post_process_v2 import read_salmon_sf, read_fasta, ORF, Gene, Isoform,  IsoformRank, filter_orf"
   ]
  },
  {
   "cell_type": "code",
   "execution_count": 28,
   "metadata": {},
   "outputs": [],
   "source": [
    "# read trinity fasta\n",
    "fasta_file = \"/data6/xzg_data/trinity_ss_flnc.Trinity.fasta\"\n",
    "\n",
    "fasta_dict = read_fasta(fasta_file)\n"
   ]
  },
  {
   "cell_type": "code",
   "execution_count": 29,
   "metadata": {},
   "outputs": [],
   "source": [
    "# read salmon output \n",
    "salmon_output_sf = [\n",
    "    \"/data6/xzg_data/salmon/L_quant.sf\",\n",
    "    \"/data6/xzg_data/salmon/St_quant.sf\",\n",
    "    \"/data6/xzg_data/salmon/Tip_quant.sf\"\n",
    "]\n",
    "\n",
    "\n",
    "tpm_dict = read_salmon_sf(salmon_output_sf)"
   ]
  },
  {
   "cell_type": "code",
   "execution_count": 30,
   "metadata": {},
   "outputs": [],
   "source": [
    "# Read and parse the BED file\n",
    "bed_file = \"/data6/xzg_data/transdecoer.standard.code/trinity_ss_flnc.Trinity.fasta.transdecoder.bed\"\n",
    "\n",
    "# tx : [orf1, orf2, orf3]\n",
    "tx_orf_dict = {}\n",
    "\n",
    "with open(bed_file, 'r') as file:\n",
    "    # Skip the header\n",
    "    next(file)\n",
    "    \n",
    "    # Parse each line\n",
    "    for line in file:\n",
    "        orf = ORF.parse_bed_line(line)\n",
    "        transcript_name = orf.transcript_name\n",
    "        if transcript_name not in tx_orf_dict:\n",
    "            tx_orf_dict[transcript_name] = []\n",
    "        tx_orf_dict[transcript_name].append(orf)\n",
    "\n",
    "\n",
    "tx_orf_dict = filter_orf(tx_orf_dict, tpm_dict)\n",
    "\n",
    "\n",
    "# 解析orf_dict, 得到isoform_dict\n",
    "# gene: [tx1, tx2, tx3 ....]\n",
    "gene_tx_dict = {}\n",
    "\n",
    "for tx, orfs in tx_orf_dict.items():\n",
    "    gene_name = \"_\".join(tx.split(\"_\")[:-1])\n",
    "    isoform = Isoform(tx, orfs)\n",
    "    if gene_name not in gene_tx_dict:\n",
    "        gene_tx_dict[gene_name] = []\n",
    "    gene_tx_dict[gene_name].append(isoform)\n",
    "\n",
    "\n",
    "# 解析isoform_dict, 得到gene_dict\n",
    "gene_dict = {}\n",
    "for gene_name, isoforms in gene_tx_dict.items():\n",
    "    \n",
    "    gene_dict[gene_name] = Gene(gene_name, isoforms)\n"
   ]
  },
  {
   "cell_type": "code",
   "execution_count": 36,
   "metadata": {},
   "outputs": [
    {
     "data": {
      "text/plain": [
       "78477"
      ]
     },
     "execution_count": 36,
     "metadata": {},
     "output_type": "execute_result"
    }
   ],
   "source": [
    "len(tx_orf_dict.values())"
   ]
  },
  {
   "cell_type": "code",
   "execution_count": 31,
   "metadata": {},
   "outputs": [
    {
     "data": {
      "text/plain": [
       "38202"
      ]
     },
     "execution_count": 31,
     "metadata": {},
     "output_type": "execute_result"
    }
   ],
   "source": [
    "len(gene_dict)"
   ]
  },
  {
   "cell_type": "code",
   "execution_count": 49,
   "metadata": {},
   "outputs": [],
   "source": [
    "# 基于gene_dict筛选fasta_dict\n",
    "from Bio import SeqIO\n",
    "with open(\"/data6/xzg_data/trinity_ss_flnc.Trinity.fasta.filtered\", 'w') as file:\n",
    "    for gene_name, gene in gene_dict.items():\n",
    "        for isoform in gene.isoforms:\n",
    "            isoform_name = isoform.name\n",
    "            SeqIO.write(fasta_dict[isoform_name], file, \"fasta\")\n"
   ]
  },
  {
   "cell_type": "code",
   "execution_count": 42,
   "metadata": {},
   "outputs": [
    {
     "name": "stdout",
     "output_type": "stream",
     "text": [
      "single isoform gene: 23079\n",
      "multi isoform gene: 15123\n",
      "good gene: 9263\n",
      "bad gene: 5860\n"
     ]
    }
   ],
   "source": [
    "# 将基因按照isoform数目分成两类\n",
    "single_isoform_gene = [ v for v in gene_dict.values() if v.size == 1]\n",
    "multi_isoform_gene = [ v for v in gene_dict.values() if v.size > 1]\n",
    "\n",
    "print(f\"single isoform gene: {len(single_isoform_gene)}\")\n",
    "print(f\"multi isoform gene: {len(multi_isoform_gene)}\")\n",
    "\n",
    "# 对于多个multi_isoform_gene的情况\n",
    "good_gene_list = []\n",
    "bad_gene_list = []\n",
    "for gene in multi_isoform_gene:\n",
    "    isoforms = gene.isoforms\n",
    "    # 获取每个转录本的预测结果, 从中选取得分最高的\n",
    "    highest_isoform = \"\"\n",
    "    # 无穷小\n",
    "    highest_score = float(\"-inf\") \n",
    "\n",
    "    for isoform in isoforms:\n",
    "        if isoform.score > highest_score:\n",
    "            highest_score = isoform.score \n",
    "            highest_isoform = isoform\n",
    "    \n",
    "    if highest_isoform.rank == IsoformRank.single_complete:\n",
    "        good_gene_list.append(gene)\n",
    "    else:\n",
    "        bad_gene_list.append(gene)\n",
    "\n",
    "print(f\"good gene: {len(good_gene_list)}\")\n",
    "print(f\"bad gene: {len(bad_gene_list)}\")"
   ]
  }
 ],
 "metadata": {
  "kernelspec": {
   "display_name": "base",
   "language": "python",
   "name": "python3"
  },
  "language_info": {
   "codemirror_mode": {
    "name": "ipython",
    "version": 3
   },
   "file_extension": ".py",
   "mimetype": "text/x-python",
   "name": "python",
   "nbconvert_exporter": "python",
   "pygments_lexer": "ipython3",
   "version": "3.1.0"
  }
 },
 "nbformat": 4,
 "nbformat_minor": 2
}
